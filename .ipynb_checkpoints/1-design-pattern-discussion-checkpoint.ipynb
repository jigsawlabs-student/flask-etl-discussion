{
 "cells": [
  {
   "cell_type": "markdown",
   "id": "a42f384d-2753-474f-a1d8-c20ce79648a4",
   "metadata": {},
   "source": [
    "# Design Pattern Discussion Questions"
   ]
  },
  {
   "cell_type": "markdown",
   "id": "df74929b-5228-4821-92d2-f9ecf3e74a26",
   "metadata": {},
   "source": [
    "### Adapter Pattern"
   ]
  },
  {
   "cell_type": "markdown",
   "id": "fc115409-a3c6-4c3a-968f-3c935b4861b5",
   "metadata": {},
   "source": [
    "The adapter pattern is also known as extract transform and load in Python.\n",
    "\n",
    "* Begin by specifying the three components of the adapter pattern, and the role that each plays."
   ]
  },
  {
   "cell_type": "markdown",
   "id": "fb311553-58a0-447e-ad54-de57d378b7f8",
   "metadata": {},
   "source": [
    "1. \n",
    "\n",
    "2.\n",
    "3."
   ]
  },
  {
   "cell_type": "markdown",
   "id": "65b80482-ed11-4d07-aee7-a0871b442a91",
   "metadata": {},
   "source": [
    "* Now here's a better question, why do we have the adapter pattern.  How do you think coding would be more difficult if we did not employ it?"
   ]
  },
  {
   "cell_type": "code",
   "execution_count": null,
   "id": "edb8a323-f1c3-4ea2-b57b-975ff06fd0d2",
   "metadata": {},
   "outputs": [],
   "source": []
  },
  {
   "cell_type": "markdown",
   "id": "d6d58bd9-87fd-4dbc-b9a1-5d7c1844ca00",
   "metadata": {},
   "source": [
    "### MVC Questions"
   ]
  },
  {
   "cell_type": "markdown",
   "id": "fdee174f-d4c3-4706-84f5-1ba51f4100b2",
   "metadata": {},
   "source": [
    "* What plays the role of the view in MVC?"
   ]
  },
  {
   "cell_type": "code",
   "execution_count": null,
   "id": "24c8a0de-b2dd-4eb6-a2f5-aedb4198dd10",
   "metadata": {},
   "outputs": [],
   "source": []
  },
  {
   "cell_type": "markdown",
   "id": "9ad43990-9f74-41ae-bd3a-1d8c6af460d5",
   "metadata": {},
   "source": [
    "* What is the role of the controller?  What is the controller primarily concerned with."
   ]
  },
  {
   "cell_type": "code",
   "execution_count": null,
   "id": "a64d7d82-c915-4852-9734-c94637974da0",
   "metadata": {},
   "outputs": [],
   "source": []
  },
  {
   "cell_type": "markdown",
   "id": "6ce15020-f504-4bf9-9814-4ee324b14601",
   "metadata": {},
   "source": [
    "* How would you describe the model in the MVC paradigm.  What is it's responsibility."
   ]
  },
  {
   "cell_type": "code",
   "execution_count": null,
   "id": "cf5e7c73-b74b-4a27-8f3f-b8ce95ad240b",
   "metadata": {},
   "outputs": [],
   "source": []
  },
  {
   "cell_type": "markdown",
   "id": "95833dc3-3fa1-491d-8006-239ea216f32b",
   "metadata": {},
   "source": [
    "### Bonus"
   ]
  },
  {
   "cell_type": "markdown",
   "id": "2fedc1d1-77e9-4cea-bf8e-d0a070e305cf",
   "metadata": {},
   "source": [
    "Draw out the design of a codebase that uses the adapter pattern to pull in data from an API and MVC to serve data."
   ]
  },
  {
   "cell_type": "code",
   "execution_count": null,
   "id": "220f3226-cdca-4f12-86c7-1d81a04aab10",
   "metadata": {},
   "outputs": [],
   "source": []
  }
 ],
 "metadata": {
  "kernelspec": {
   "display_name": "Python 3 (ipykernel)",
   "language": "python",
   "name": "python3"
  },
  "language_info": {
   "codemirror_mode": {
    "name": "ipython",
    "version": 3
   },
   "file_extension": ".py",
   "mimetype": "text/x-python",
   "name": "python",
   "nbconvert_exporter": "python",
   "pygments_lexer": "ipython3",
   "version": "3.9.12"
  }
 },
 "nbformat": 4,
 "nbformat_minor": 5
}
